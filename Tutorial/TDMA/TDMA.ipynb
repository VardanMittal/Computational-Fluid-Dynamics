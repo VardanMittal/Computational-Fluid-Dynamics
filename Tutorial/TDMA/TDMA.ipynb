{
 "cells": [
  {
   "cell_type": "code",
   "execution_count": 24,
   "metadata": {},
   "outputs": [],
   "source": [
    "import  numpy as np\n",
    "import sympy as sp\n",
    "import os, sys\n",
    "sys.path.append(os.path.abspath(os.path.join('../..')))"
   ]
  },
  {
   "cell_type": "code",
   "execution_count": 25,
   "metadata": {},
   "outputs": [],
   "source": [
    "from utils.solvers import GaussElimination"
   ]
  },
  {
   "cell_type": "code",
   "execution_count": 26,
   "metadata": {},
   "outputs": [],
   "source": [
    "n = 100 # No of nodes"
   ]
  },
  {
   "cell_type": "code",
   "execution_count": 27,
   "metadata": {},
   "outputs": [],
   "source": [
    "q= 1e6\n",
    "k = 0.5\n",
    "Delta_x = 0.02 / n\n",
    "T1 = 100\n",
    "T7 = 200"
   ]
  },
  {
   "cell_type": "code",
   "execution_count": 28,
   "metadata": {},
   "outputs": [],
   "source": [
    "d = np.ones(n)*-2\n",
    "l= np.ones(n-1)\n",
    "u = np.ones(n-1)\n",
    "b = np.zeros(n)"
   ]
  },
  {
   "cell_type": "code",
   "execution_count": 29,
   "metadata": {},
   "outputs": [],
   "source": [
    "for i in range(1, n-1):\n",
    "    b[i] = (-q * (Delta_x**2))/k"
   ]
  },
  {
   "cell_type": "code",
   "execution_count": 30,
   "metadata": {},
   "outputs": [],
   "source": [
    "b[0] = -T1 + (-q * (Delta_x**2))/k\n",
    "b[n-1] = -T7 + (-q * (Delta_x**2))/k"
   ]
  },
  {
   "cell_type": "code",
   "execution_count": 31,
   "metadata": {},
   "outputs": [],
   "source": [
    "n = len(d)\n",
    "for i in range(1, n):\n",
    "    factor = l[i-1] / d[i-1]\n",
    "    d[i] = d[i] - factor * u[i-1]\n",
    "    b[i] = b[i] - factor * b[i-1]\n",
    "x = np.zeros(n)\n",
    "x[-1] = b[-1] / d[-1]\n",
    "\n",
    "for i in reversed(range(n-1)):\n",
    "    x[i] = (b[i] - u[i] * x[i+1]) / d[i]"
   ]
  },
  {
   "cell_type": "code",
   "execution_count": 32,
   "metadata": {},
   "outputs": [
    {
     "data": {
      "text/plain": [
       "array([104.99009901, 109.90019802, 114.73029703, 119.48039604,\n",
       "       124.15049505, 128.74059406, 133.25069307, 137.68079208,\n",
       "       142.03089109, 146.3009901 , 150.49108911, 154.60118812,\n",
       "       158.63128713, 162.58138614, 166.45148515, 170.24158416,\n",
       "       173.95168317, 177.58178218, 181.13188119, 184.6019802 ,\n",
       "       187.99207921, 191.30217822, 194.53227723, 197.68237624,\n",
       "       200.75247525, 203.74257426, 206.65267327, 209.48277228,\n",
       "       212.23287129, 214.9029703 , 217.49306931, 220.00316832,\n",
       "       222.43326733, 224.78336634, 227.05346535, 229.24356436,\n",
       "       231.35366337, 233.38376238, 235.33386139, 237.2039604 ,\n",
       "       238.99405941, 240.70415842, 242.33425743, 243.88435644,\n",
       "       245.35445545, 246.74455446, 248.05465347, 249.28475248,\n",
       "       250.43485149, 251.5049505 , 252.4950495 , 253.40514851,\n",
       "       254.23524752, 254.98534653, 255.65544554, 256.24554455,\n",
       "       256.75564356, 257.18574257, 257.53584158, 257.80594059,\n",
       "       257.9960396 , 258.10613861, 258.13623762, 258.08633663,\n",
       "       257.95643564, 257.74653465, 257.45663366, 257.08673267,\n",
       "       256.63683168, 256.10693069, 255.4970297 , 254.80712871,\n",
       "       254.03722772, 253.18732673, 252.25742574, 251.24752475,\n",
       "       250.15762376, 248.98772277, 247.73782178, 246.40792079,\n",
       "       244.9980198 , 243.50811881, 241.93821782, 240.28831683,\n",
       "       238.55841584, 236.74851485, 234.85861386, 232.88871287,\n",
       "       230.83881188, 228.70891089, 226.4990099 , 224.20910891,\n",
       "       221.83920792, 219.38930693, 216.85940594, 214.24950495,\n",
       "       211.55960396, 208.78970297, 205.93980198, 203.00990099])"
      ]
     },
     "execution_count": 32,
     "metadata": {},
     "output_type": "execute_result"
    }
   ],
   "source": [
    "x"
   ]
  },
  {
   "cell_type": "code",
   "execution_count": null,
   "metadata": {},
   "outputs": [],
   "source": []
  }
 ],
 "metadata": {
  "kernelspec": {
   "display_name": ".venv",
   "language": "python",
   "name": "python3"
  },
  "language_info": {
   "codemirror_mode": {
    "name": "ipython",
    "version": 3
   },
   "file_extension": ".py",
   "mimetype": "text/x-python",
   "name": "python",
   "nbconvert_exporter": "python",
   "pygments_lexer": "ipython3",
   "version": "3.12.4"
  }
 },
 "nbformat": 4,
 "nbformat_minor": 2
}
