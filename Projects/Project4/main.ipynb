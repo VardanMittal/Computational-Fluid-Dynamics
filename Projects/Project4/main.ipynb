{
 "cells": [
  {
   "cell_type": "markdown",
   "metadata": {},
   "source": [
    "# Project 4: Lid Driven Cavity\n"
   ]
  },
  {
   "cell_type": "markdown",
   "metadata": {},
   "source": [
    "- Resource: https://github.com/davidlin001/flow_sims/tree/master/SIMPLE\n"
   ]
  },
  {
   "cell_type": "markdown",
   "metadata": {},
   "source": [
    "`Libraries`\n"
   ]
  },
  {
   "cell_type": "code",
   "execution_count": 6,
   "metadata": {},
   "outputs": [],
   "source": [
    "import numpy as np\n",
    "import matplotlib.pyplot as plt\n",
    "from solvers import *"
   ]
  },
  {
   "cell_type": "markdown",
   "metadata": {},
   "source": [
    "`Initial Variables`\n"
   ]
  },
  {
   "cell_type": "code",
   "execution_count": null,
   "metadata": {},
   "outputs": [],
   "source": [
    "Nx = Ny = 100\n",
    "l = 1.0\n",
    "nu = 0.01\n",
    "Re = 1/nu\n",
    "velocity = 1.0\n",
    "\n",
    "dx = dy = l / (Nx - 1)\n",
    "\n",
    "x = np.linspace(0.0, l, Nx)\n",
    "y = np.linspace(0.0, l, Ny)\n",
    "X,Y = np.meshgrid(x,y)\n",
    "\n",
    "u = np.zeros((Nx+1, Ny))\n",
    "v = np.zeros((Nx,Ny+1))\n",
    "p = np.zeros((Nx, Ny))"
   ]
  },
  {
   "cell_type": "markdown",
   "metadata": {},
   "source": [
    "`Boundry Conditions`\n"
   ]
  },
  {
   "cell_type": "code",
   "execution_count": null,
   "metadata": {},
   "outputs": [],
   "source": [
    "def boundry(u):\n",
    "\tu[:, -1] = 1"
   ]
  },
  {
   "cell_type": "code",
   "execution_count": null,
   "metadata": {},
   "outputs": [],
   "source": [
    "while True:\n",
    "    u_star, d_u = x_momentum_solver(Nx,Ny, dx, dy, u, v, velocity,p)\n",
    "    v_star,d_v = y_momentum_solver(Nx, Ny, dx, dy, u, v, velocity,p)\n",
    "    p,p_prime = pressure_correction(Nx,Ny,dx,dy,u_star,v_star,p)\n",
    "    \n"
   ]
  }
 ],
 "metadata": {
  "kernelspec": {
   "display_name": ".venv",
   "language": "python",
   "name": "python3"
  },
  "language_info": {
   "codemirror_mode": {
    "name": "ipython",
    "version": 3
   },
   "file_extension": ".py",
   "mimetype": "text/x-python",
   "name": "python",
   "nbconvert_exporter": "python",
   "pygments_lexer": "ipython3",
   "version": "3.12.4"
  }
 },
 "nbformat": 4,
 "nbformat_minor": 2
}
