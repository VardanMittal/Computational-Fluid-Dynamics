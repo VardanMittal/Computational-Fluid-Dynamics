{
 "cells": [
  {
   "cell_type": "markdown",
   "metadata": {},
   "source": [
    "# Project 4: Lid Driven Cavity\n"
   ]
  },
  {
   "cell_type": "markdown",
   "metadata": {},
   "source": [
    "- Resource: https://github.com/davidlin001/flow_sims/tree/master/SIMPLE\n"
   ]
  },
  {
   "cell_type": "markdown",
   "metadata": {},
   "source": [
    "`Libraries`\n"
   ]
  },
  {
   "cell_type": "code",
   "execution_count": 4,
   "metadata": {},
   "outputs": [],
   "source": [
    "import numpy as np\n",
    "import matplotlib.pyplot as plt\n",
    "from solvers import *"
   ]
  },
  {
   "cell_type": "markdown",
   "metadata": {},
   "source": [
    "`Initial Variables`\n"
   ]
  },
  {
   "cell_type": "code",
   "execution_count": null,
   "metadata": {},
   "outputs": [],
   "source": [
    "Nx = Ny = 100\n",
    "l = 1.0\n",
    "nu = 0.01\n",
    "velocity = 1.0\n",
    "Re = 1.0\n",
    "\n",
    "dx = l / Nx\n",
    "dy = l / Ny\n",
    "\n",
    "x = np.linspace(0.0, l, Nx)\n",
    "y = np.linspace(0.0, l, Ny)\n",
    "X,Y = np.meshgrid(x,y)\n",
    "\n",
    "u = u_star = np.zeros((Nx+2, Ny+2))\n",
    "v = v_star =  np.zeros((Nx+2,Ny + 2))\n",
    "p = p_star = p_prime = np.zeros((Nx+2, Ny+2))"
   ]
  },
  {
   "cell_type": "markdown",
   "metadata": {},
   "source": [
    "`Coefficients`\n"
   ]
  },
  {
   "cell_type": "code",
   "execution_count": null,
   "metadata": {},
   "outputs": [],
   "source": [
    "A_p = A_w = A_s = A_e = A_n = np.zeros((Nx+2, Ny+2))\n",
    "Ap_p = Ap_w = Ap_s = Ap_e = Ap_n = np.zeros((Nx+2, Ny+2))\n",
    "\n",
    "source_x = np.zeros(Nx*Ny) \n",
    "source_y = np.zeros(Nx*Ny) \n",
    "source_p = np.zeros(Nx*Ny) \n",
    "u_face = np.zeros((Ny+2,Nx+1))\n",
    "v_face = np.zeros((Ny+1,Nx+2))\n",
    "\n",
    "A_momentum = np.zeros((Nx*Ny, Nx*Ny))\n",
    "A_pressure = np.zeros((Nx*Ny, Nx*Ny))"
   ]
  },
  {
   "cell_type": "code",
   "execution_count": null,
   "metadata": {},
   "outputs": [],
   "source": []
  },
  {
   "cell_type": "markdown",
   "metadata": {},
   "source": [
    "`Boundry Conditions`\n"
   ]
  },
  {
   "cell_type": "code",
   "execution_count": null,
   "metadata": {},
   "outputs": [],
   "source": [
    "u[0, 1:-1] = 1"
   ]
  },
  {
   "cell_type": "code",
   "execution_count": null,
   "metadata": {},
   "outputs": [
    {
     "name": "stderr",
     "output_type": "stream",
     "text": [
      "f:\\M.Tech\\SEM 1\\Computational Fluid Dynamics\\Projects\\Project4\\solvers.py:15: RuntimeWarning: invalid value encountered in scalar divide\n",
      "  factor = l[i-1] / d[i-1]\n"
     ]
    },
    {
     "name": "stdout",
     "output_type": "stream",
     "text": [
      "[[ 0. nan nan ... nan nan  1.]\n",
      " [ 0. nan nan ... nan nan  1.]\n",
      " [ 0. nan nan ... nan nan  1.]\n",
      " ...\n",
      " [ 0. nan nan ... nan nan  1.]\n",
      " [ 0. nan nan ... nan nan  1.]\n",
      " [ 0. nan nan ... nan nan  1.]]\n",
      "[[ 0. nan nan ... nan nan  1.]\n",
      " [ 0. nan nan ... nan nan  1.]\n",
      " [ 0. nan nan ... nan nan  1.]\n",
      " ...\n",
      " [ 0. nan nan ... nan nan  1.]\n",
      " [ 0. nan nan ... nan nan  1.]\n",
      " [ 0. nan nan ... nan nan  1.]]\n"
     ]
    },
    {
     "ename": "KeyboardInterrupt",
     "evalue": "",
     "output_type": "error",
     "traceback": [
      "\u001b[1;31m---------------------------------------------------------------------------\u001b[0m",
      "\u001b[1;31mKeyboardInterrupt\u001b[0m                         Traceback (most recent call last)",
      "Cell \u001b[1;32mIn[8], line 4\u001b[0m\n\u001b[0;32m      2\u001b[0m u_star, du \u001b[38;5;241m=\u001b[39m x_momentum_solver(Nx,Ny, dx, dy, u, v, velocity,p)\n\u001b[0;32m      3\u001b[0m v_star, dv\u001b[38;5;241m=\u001b[39m y_momentum_solver(Nx, Ny, dx, dy, u, v, velocity,p)\n\u001b[1;32m----> 4\u001b[0m p,p_prime \u001b[38;5;241m=\u001b[39m \u001b[43mpressure_correction\u001b[49m\u001b[43m(\u001b[49m\u001b[43mNx\u001b[49m\u001b[43m,\u001b[49m\u001b[43mNy\u001b[49m\u001b[43m,\u001b[49m\u001b[43mdx\u001b[49m\u001b[43m,\u001b[49m\u001b[43mdy\u001b[49m\u001b[43m,\u001b[49m\u001b[43mu_star\u001b[49m\u001b[43m,\u001b[49m\u001b[43mv_star\u001b[49m\u001b[43m,\u001b[49m\u001b[43mp\u001b[49m\u001b[43m)\u001b[49m\n\u001b[0;32m      5\u001b[0m u,v \u001b[38;5;241m=\u001b[39m update_velocity(Nx, Ny, u_star, v_star, p_prime, du, dv, velocity)\n\u001b[0;32m      6\u001b[0m \u001b[38;5;28mprint\u001b[39m(u)\n",
      "File \u001b[1;32mf:\\M.Tech\\SEM 1\\Computational Fluid Dynamics\\Projects\\Project4\\solvers.py:182\u001b[0m, in \u001b[0;36mpressure_correction\u001b[1;34m(Nx, Ny, dx, dy, u_star, v_star, p, max_iter)\u001b[0m\n\u001b[0;32m    180\u001b[0m \u001b[38;5;66;03m# Fill RHS\u001b[39;00m\n\u001b[0;32m    181\u001b[0m \u001b[38;5;28;01mfor\u001b[39;00m i \u001b[38;5;129;01min\u001b[39;00m \u001b[38;5;28mrange\u001b[39m(\u001b[38;5;241m1\u001b[39m, Nx\u001b[38;5;241m-\u001b[39m\u001b[38;5;241m1\u001b[39m):\n\u001b[1;32m--> 182\u001b[0m     d[i\u001b[38;5;241m-\u001b[39m\u001b[38;5;241m1\u001b[39m] \u001b[38;5;241m=\u001b[39m b[i, j] \u001b[38;5;241m-\u001b[39m (dx \u001b[38;5;241m/\u001b[39m dy\u001b[38;5;241m*\u001b[39m\u001b[38;5;241m*\u001b[39m\u001b[38;5;241m2\u001b[39m) \u001b[38;5;241m*\u001b[39m (p_prime[i, j\u001b[38;5;241m-\u001b[39m\u001b[38;5;241m1\u001b[39m] \u001b[38;5;241m+\u001b[39m p_prime[i, j\u001b[38;5;241m+\u001b[39m\u001b[38;5;241m1\u001b[39m])\n\u001b[0;32m    184\u001b[0m \u001b[38;5;66;03m# Solve using TDMA\u001b[39;00m\n\u001b[0;32m    185\u001b[0m p_prime[\u001b[38;5;241m1\u001b[39m:Nx\u001b[38;5;241m-\u001b[39m\u001b[38;5;241m1\u001b[39m, j] \u001b[38;5;241m=\u001b[39m TDMA(a, b_diag, c, d)\n",
      "\u001b[1;31mKeyboardInterrupt\u001b[0m: "
     ]
    }
   ],
   "source": [
    "while True:\n",
    "    u_star, du = x_momentum_solver(Nx,Ny, dx, dy, u, v, velocity,p)\n",
    "    v_star, dv= y_momentum_solver(Nx, Ny, dx, dy, u, v, velocity,p)\n",
    "    p,p_prime = pressure_correction(Nx,Ny,dx,dy,u_star,v_star,p)\n",
    "    u,v = update_velocity(Nx, Ny, u_star, v_star, p_prime, du, dv, velocity)"
   ]
  },
  {
   "cell_type": "code",
   "execution_count": null,
   "metadata": {},
   "outputs": [],
   "source": []
  }
 ],
 "metadata": {
  "kernelspec": {
   "display_name": ".venv",
   "language": "python",
   "name": "python3"
  },
  "language_info": {
   "codemirror_mode": {
    "name": "ipython",
    "version": 3
   },
   "file_extension": ".py",
   "mimetype": "text/x-python",
   "name": "python",
   "nbconvert_exporter": "python",
   "pygments_lexer": "ipython3",
   "version": "3.12.4"
  }
 },
 "nbformat": 4,
 "nbformat_minor": 2
}
