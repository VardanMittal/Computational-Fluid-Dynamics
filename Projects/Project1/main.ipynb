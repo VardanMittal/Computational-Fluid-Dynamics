{
 "cells": [
  {
   "cell_type": "code",
   "execution_count": 1,
   "metadata": {},
   "outputs": [],
   "source": [
    "import numpy as np\n",
    "import os, sys\n",
    "sys.path.append(os.path.abspath(os.path.join('../..')))"
   ]
  },
  {
   "cell_type": "code",
   "execution_count": 2,
   "metadata": {},
   "outputs": [],
   "source": [
    "from utils import solvers"
   ]
  },
  {
   "cell_type": "code",
   "execution_count": null,
   "metadata": {},
   "outputs": [],
   "source": []
  },
  {
   "cell_type": "code",
   "execution_count": 4,
   "metadata": {},
   "outputs": [],
   "source": [
    "import numpy as np\n",
    "from scipy.sparse import lil_matrix\n",
    "\n",
    "# Parameters\n",
    "N = 81  # grid size\n",
    "h = 1.0 / (N - 1)  # grid spacing\n",
    "\n",
    "# Initialize the coefficient matrix A and the source term vector b\n",
    "A = lil_matrix((N * N, N * N))\n",
    "b = np.zeros(N * N)\n",
    "\n",
    "# Loop over each grid point\n",
    "for i in range(N):\n",
    "    for j in range(N):\n",
    "        k = i * N + j\n",
    "        x = i * h\n",
    "        y = j * h\n",
    "\n",
    "        # Apply boundary conditions\n",
    "        if i == 0:\n",
    "            A[k, k] = 1\n",
    "            b[k] = 500 * np.exp(-50 * (1 + y**2))  # Left boundary (x=0)\n",
    "        elif i == N-1:\n",
    "            A[k, k] = 1\n",
    "            b[k] = 100 * (1 - y) + 500 * np.exp(-50 * y**2)  # Right boundary (x=1)\n",
    "        elif j == 0:\n",
    "            A[k, k] = 1\n",
    "            b[k] = 100 * x + 500 * np.exp(-50 * (1 - x)**2)  # Bottom boundary (y=0)\n",
    "        elif j == N-1:\n",
    "            A[k, k] = 1\n",
    "            b[k] = 500 * np.exp(-50 * ((1 - x)**2 + 1))  # Top boundary (y=1)\n",
    "        else:\n",
    "            # Interior points\n",
    "            A[k, k] = -4\n",
    "            A[k, i * N + (j + 1)] = 1  # right\n",
    "            A[k, i * N + (j - 1)] = 1  # left\n",
    "            A[k, (i + 1) * N + j] = 1  # up\n",
    "            A[k, (i - 1) * N + j] = 1  # down\n",
    "            b[k] = h**2 * (50000 * np.exp(-50 * ((1 - x)**2 + y**2)) * (100 * ((1 - x)**2 + y**2) - 2))\n",
    "\n",
    "# Convert A to CSR format for efficient solving\n",
    "A = A.tocsr()\n",
    "\n",
    "# Solve the system\n",
    "phi = np.linalg.solve(A.toarray(), b)\n",
    "\n",
    "# Reshape phi back into a 2D grid\n",
    "phi_grid = phi.reshape((N, N))\n",
    "\n"
   ]
  },
  {
   "cell_type": "code",
   "execution_count": 7,
   "metadata": {},
   "outputs": [
    {
     "data": {
      "text/plain": [
       "array([[1., 0., 0., ..., 0., 0., 0.],\n",
       "       [0., 1., 0., ..., 0., 0., 0.],\n",
       "       [0., 0., 1., ..., 0., 0., 0.],\n",
       "       ...,\n",
       "       [0., 0., 0., ..., 1., 0., 0.],\n",
       "       [0., 0., 0., ..., 0., 1., 0.],\n",
       "       [0., 0., 0., ..., 0., 0., 1.]])"
      ]
     },
     "execution_count": 7,
     "metadata": {},
     "output_type": "execute_result"
    }
   ],
   "source": [
    "A.toarray()"
   ]
  },
  {
   "cell_type": "code",
   "execution_count": null,
   "metadata": {},
   "outputs": [],
   "source": []
  }
 ],
 "metadata": {
  "kernelspec": {
   "display_name": ".venv",
   "language": "python",
   "name": "python3"
  },
  "language_info": {
   "codemirror_mode": {
    "name": "ipython",
    "version": 3
   },
   "file_extension": ".py",
   "mimetype": "text/x-python",
   "name": "python",
   "nbconvert_exporter": "python",
   "pygments_lexer": "ipython3",
   "version": "3.12.4"
  }
 },
 "nbformat": 4,
 "nbformat_minor": 2
}
